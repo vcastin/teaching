{
 "cells": [
  {
   "cell_type": "markdown",
   "metadata": {},
   "source": [
    "# Simple neural network\n",
    "\n",
    "In this notebook, we are going to create and train a simple neural network on the digits dataset using JAX."
   ]
  },
  {
   "cell_type": "code",
   "execution_count": 38,
   "metadata": {},
   "outputs": [],
   "source": [
    "import jax\n",
    "import jax.numpy as jnp\n",
    "import numpy as np\n",
    "import matplotlib.pyplot as plt\n",
    "\n",
    "from sklearn.datasets import load_digits\n",
    "from sklearn.model_selection import train_test_split"
   ]
  },
  {
   "cell_type": "markdown",
   "metadata": {},
   "source": [
    "First, we need to load the data and make them into Jax arrays."
   ]
  },
  {
   "cell_type": "code",
   "execution_count": null,
   "metadata": {
    "scrolled": true
   },
   "outputs": [
    {
     "data": {
      "image/png": "[encoded data removed]",
      "text/plain": [
       "<Figure size 640x480 with 3 Axes>"
      ]
     },
     "metadata": {},
     "output_type": "display_data"
    }
   ],
   "source": [
    "X, y = load_digits(return_X_y=True)\n",
    "\n",
    "# Normalize\n",
    "\n",
    "X -= X.mean(axis=0)\n",
    "X /= np.std(X)\n",
    "X_train, X_test, y_train, y_test = train_test_split(X, y)\n",
    "\n",
    "f, axes = plt.subplots(1, 3)\n",
    "for i, axe in enumerate(axes):\n",
    "    axe.imshow(X[i].reshape(8, 8))\n",
    "\n",
    "x = jnp.array(X_train)\n",
    "y = jnp.array(y_train)\n",
    "n, p = x.shape  # n = 1347, p = 64\n",
    "x_test = jnp.array(X_test)\n",
    "y_test = jnp.array(y_test)"
   ]
  },
  {
   "cell_type": "markdown",
   "metadata": {},
   "source": [
    "# Define the network\n",
    "\n",
    "We will work with a simple network with two layers (one hidden layer).\n",
    "\n",
    "The input $x$ is transformed into the output $z$ by the following operations:\n",
    "\n",
    "$$y = \\tanh(W_1x + b_1)$$\n",
    "$$z = W_2y + b_2\\in \\mathbb{R^{\\sharp\\text{classes}}}.$$\n",
    "\n",
    "The predicted class is then the argmax of the output.\n",
    "\n",
    "**Exercise 1**: Define a function `net(x, W1, b1, W2, b2)` that implements this transform (without taking the argmax). Remember that `x` is a matrix of size $n\\times p$"
   ]
  },
  {
   "cell_type": "code",
   "execution_count": 40,
   "metadata": {},
   "outputs": [],
   "source": [
    "def net(x, W1, b1, W2, b2):\n",
    "    # your code here\n",
    "    return z"
   ]
  },
  {
   "cell_type": "markdown",
   "metadata": {},
   "source": [
    "Next, let us specify the parameters of the network, `W1, b1, W2, b2`. You can chose the size of the hidden layer, but the input and output sizes are determined by the problem.\n",
    "\n",
    "**Exercise 2**: Define a set of parameters `W1, b1, W2, b2`, where you chose the size of the hidden layer. To instantiate random matrices in Jax, we use `PRNGKeys`: check out the syntax of the function `jax.random.normal`.\n",
    "\n",
    "In order to check that everything works, compute `net(x, W1, b1, W2, b2)`."
   ]
  },
  {
   "cell_type": "code",
   "execution_count": 41,
   "metadata": {},
   "outputs": [],
   "source": [
    "hidden_size = #\n",
    "input_size = #\n",
    "output_size = #\n",
    "\n",
    "key, subkey = jax.random.split(jax.random.PRNGKey(0))\n",
    "W1 = # your code here\n",
    "b1 = # your code here\n",
    "key, subkey = jax.random.split(key)\n",
    "W2 = # your code here\n",
    "b2 = # your code here\n",
    "\n",
    "parameters = (W1, b1, W2, b2)\n",
    "\n",
    "output = net(x, W1, b1, W2, b2)"
   ]
  },
  {
   "cell_type": "markdown",
   "metadata": {},
   "source": [
    "Next, we will define a cost function. We will use the classical cross entropy loss. "
   ]
  },
  {
   "cell_type": "code",
   "execution_count": 42,
   "metadata": {},
   "outputs": [],
   "source": [
    "def cross_entropy_loss(logits, labels):  # logits is the output of the network\n",
    "    one_hot_labels = jax.nn.one_hot(labels, num_classes=10)  # transforms i to [0, 0, ..., 1, ..., 0] with 1 in position i\n",
    "    return -jnp.mean(jnp.sum(one_hot_labels * logits, axis=-1))"
   ]
  },
  {
   "cell_type": "markdown",
   "metadata": {},
   "source": [
    "**Exercise 3**: Compute the current loss of the network, and then back-propagate to compute the gradient with respect to the parameters."
   ]
  },
  {
   "cell_type": "code",
   "execution_count": 43,
   "metadata": {
    "scrolled": true
   },
   "outputs": [],
   "source": [
    "def loss(x, W1, b1, W2, b2, y):\n",
    "    # your code here\n",
    "    return #\n",
    "\n",
    "## your code here"
   ]
  },
  {
   "cell_type": "markdown",
   "metadata": {},
   "source": [
    "We are almost ready to train our network!\n",
    "\n",
    "But first, we will need to compute the accuracy of the network, on the train and test set.\n",
    "\n",
    "**Exercise 4**: Define a function `accuracy(X, y, W1, b1, W2, b2)` that computes the accuracy of the network on the dataset `x`with true labels `y`, i.e., the proportion of correct predictions. Remember that the predicted class at the output of the network is computed as the argmaximum of the output. Compute the current accuracy of the network on the train set. Is it normal ?"
   ]
  },
  {
   "cell_type": "code",
   "execution_count": 44,
   "metadata": {
    "slideshow": {
     "slide_type": "subslide"
    }
   },
   "outputs": [
    {
     "name": "stdout",
     "output_type": "stream",
     "text": [
      "Train accuracy: 0.10170750319957733\n"
     ]
    }
   ],
   "source": [
    "def accuracy(X, y, W1, b1, W2, b2):\n",
    "    # your code here\n",
    "    return #\n",
    "\n",
    "train_accuracy = accuracy(x, y, W1, b1, W2, b2)\n",
    "print(f\"Train accuracy: {train_accuracy}\")"
   ]
  },
  {
   "cell_type": "markdown",
   "metadata": {},
   "source": [
    "# Training the network\n",
    "\n",
    "We are now ready to train the network, using back-propagation and stochastic gradient descent.\n",
    "First, we define the number of iterations of the algorithm, the step size, and the batch size. We also reinitialize the weights. Finally, we will store the train and test accuracy during the training."
   ]
  },
  {
   "cell_type": "code",
   "execution_count": 46,
   "metadata": {},
   "outputs": [],
   "source": [
    "n_iter = 1000\n",
    "step_size = 0.1\n",
    "batch_size = 64\n",
    "\n",
    "\n",
    "test_list = []\n",
    "train_list = []"
   ]
  },
  {
   "cell_type": "markdown",
   "metadata": {},
   "source": [
    "**Exercise 5**: Complete the following training list, so that each parameter is updated at each iteration."
   ]
  },
  {
   "cell_type": "code",
   "execution_count": 24,
   "metadata": {
    "scrolled": true
   },
   "outputs": [
    {
     "name": "stdout",
     "output_type": "stream",
     "text": [
      "Iteration 0 Train acc: 0.106 Test acc: 0.098\n",
      "Iteration 10 Train acc: 0.156 Test acc: 0.151\n",
      "Iteration 20 Train acc: 0.229 Test acc: 0.229\n",
      "Iteration 30 Train acc: 0.312 Test acc: 0.322\n",
      "Iteration 40 Train acc: 0.393 Test acc: 0.411\n",
      "Iteration 50 Train acc: 0.461 Test acc: 0.487\n",
      "Iteration 60 Train acc: 0.509 Test acc: 0.522\n",
      "Iteration 70 Train acc: 0.552 Test acc: 0.564\n",
      "Iteration 80 Train acc: 0.583 Test acc: 0.582\n",
      "Iteration 90 Train acc: 0.609 Test acc: 0.607\n",
      "Iteration 100 Train acc: 0.633 Test acc: 0.629\n",
      "Iteration 110 Train acc: 0.658 Test acc: 0.651\n",
      "Iteration 120 Train acc: 0.674 Test acc: 0.664\n",
      "Iteration 130 Train acc: 0.703 Test acc: 0.678\n",
      "Iteration 140 Train acc: 0.712 Test acc: 0.687\n",
      "Iteration 150 Train acc: 0.729 Test acc: 0.709\n",
      "Iteration 160 Train acc: 0.741 Test acc: 0.713\n",
      "Iteration 170 Train acc: 0.754 Test acc: 0.724\n",
      "Iteration 180 Train acc: 0.754 Test acc: 0.724\n",
      "Iteration 190 Train acc: 0.768 Test acc: 0.740\n",
      "Iteration 200 Train acc: 0.777 Test acc: 0.749\n",
      "Iteration 210 Train acc: 0.782 Test acc: 0.747\n",
      "Iteration 220 Train acc: 0.788 Test acc: 0.751\n",
      "Iteration 230 Train acc: 0.792 Test acc: 0.753\n",
      "Iteration 240 Train acc: 0.790 Test acc: 0.758\n",
      "Iteration 250 Train acc: 0.800 Test acc: 0.764\n",
      "Iteration 260 Train acc: 0.805 Test acc: 0.773\n",
      "Iteration 270 Train acc: 0.805 Test acc: 0.771\n",
      "Iteration 280 Train acc: 0.805 Test acc: 0.769\n",
      "Iteration 290 Train acc: 0.811 Test acc: 0.773\n",
      "Iteration 300 Train acc: 0.812 Test acc: 0.773\n",
      "Iteration 310 Train acc: 0.819 Test acc: 0.776\n",
      "Iteration 320 Train acc: 0.821 Test acc: 0.782\n",
      "Iteration 330 Train acc: 0.826 Test acc: 0.793\n",
      "Iteration 340 Train acc: 0.828 Test acc: 0.793\n",
      "Iteration 350 Train acc: 0.829 Test acc: 0.789\n",
      "Iteration 360 Train acc: 0.831 Test acc: 0.789\n",
      "Iteration 370 Train acc: 0.834 Test acc: 0.796\n",
      "Iteration 380 Train acc: 0.834 Test acc: 0.796\n",
      "Iteration 390 Train acc: 0.840 Test acc: 0.809\n",
      "Iteration 400 Train acc: 0.839 Test acc: 0.816\n",
      "Iteration 410 Train acc: 0.840 Test acc: 0.811\n",
      "Iteration 420 Train acc: 0.843 Test acc: 0.820\n",
      "Iteration 430 Train acc: 0.843 Test acc: 0.822\n",
      "Iteration 440 Train acc: 0.842 Test acc: 0.820\n",
      "Iteration 450 Train acc: 0.843 Test acc: 0.824\n",
      "Iteration 460 Train acc: 0.846 Test acc: 0.824\n",
      "Iteration 470 Train acc: 0.849 Test acc: 0.818\n",
      "Iteration 480 Train acc: 0.854 Test acc: 0.822\n",
      "Iteration 490 Train acc: 0.854 Test acc: 0.822\n",
      "Iteration 500 Train acc: 0.853 Test acc: 0.820\n",
      "Iteration 510 Train acc: 0.854 Test acc: 0.813\n",
      "Iteration 520 Train acc: 0.854 Test acc: 0.816\n",
      "Iteration 530 Train acc: 0.857 Test acc: 0.820\n",
      "Iteration 540 Train acc: 0.858 Test acc: 0.822\n",
      "Iteration 550 Train acc: 0.860 Test acc: 0.829\n",
      "Iteration 560 Train acc: 0.858 Test acc: 0.824\n",
      "Iteration 570 Train acc: 0.863 Test acc: 0.827\n",
      "Iteration 580 Train acc: 0.863 Test acc: 0.831\n",
      "Iteration 590 Train acc: 0.867 Test acc: 0.831\n",
      "Iteration 600 Train acc: 0.864 Test acc: 0.833\n",
      "Iteration 610 Train acc: 0.863 Test acc: 0.831\n",
      "Iteration 620 Train acc: 0.863 Test acc: 0.831\n",
      "Iteration 630 Train acc: 0.870 Test acc: 0.831\n",
      "Iteration 640 Train acc: 0.869 Test acc: 0.829\n",
      "Iteration 650 Train acc: 0.866 Test acc: 0.838\n",
      "Iteration 660 Train acc: 0.869 Test acc: 0.838\n",
      "Iteration 670 Train acc: 0.872 Test acc: 0.840\n",
      "Iteration 680 Train acc: 0.878 Test acc: 0.838\n",
      "Iteration 690 Train acc: 0.878 Test acc: 0.838\n",
      "Iteration 700 Train acc: 0.876 Test acc: 0.842\n",
      "Iteration 710 Train acc: 0.880 Test acc: 0.842\n",
      "Iteration 720 Train acc: 0.881 Test acc: 0.844\n",
      "Iteration 730 Train acc: 0.886 Test acc: 0.847\n",
      "Iteration 740 Train acc: 0.889 Test acc: 0.853\n",
      "Iteration 750 Train acc: 0.889 Test acc: 0.844\n",
      "Iteration 760 Train acc: 0.892 Test acc: 0.851\n",
      "Iteration 770 Train acc: 0.898 Test acc: 0.856\n",
      "Iteration 780 Train acc: 0.898 Test acc: 0.860\n",
      "Iteration 790 Train acc: 0.901 Test acc: 0.860\n",
      "Iteration 800 Train acc: 0.906 Test acc: 0.862\n",
      "Iteration 810 Train acc: 0.912 Test acc: 0.867\n",
      "Iteration 820 Train acc: 0.915 Test acc: 0.871\n",
      "Iteration 830 Train acc: 0.918 Test acc: 0.867\n",
      "Iteration 840 Train acc: 0.920 Test acc: 0.878\n",
      "Iteration 850 Train acc: 0.921 Test acc: 0.882\n",
      "Iteration 860 Train acc: 0.921 Test acc: 0.884\n",
      "Iteration 870 Train acc: 0.920 Test acc: 0.884\n",
      "Iteration 880 Train acc: 0.922 Test acc: 0.889\n",
      "Iteration 890 Train acc: 0.922 Test acc: 0.880\n",
      "Iteration 900 Train acc: 0.924 Test acc: 0.891\n",
      "Iteration 910 Train acc: 0.924 Test acc: 0.891\n",
      "Iteration 920 Train acc: 0.925 Test acc: 0.893\n",
      "Iteration 930 Train acc: 0.925 Test acc: 0.889\n",
      "Iteration 940 Train acc: 0.928 Test acc: 0.891\n",
      "Iteration 950 Train acc: 0.921 Test acc: 0.889\n",
      "Iteration 960 Train acc: 0.928 Test acc: 0.891\n",
      "Iteration 970 Train acc: 0.928 Test acc: 0.889\n",
      "Iteration 980 Train acc: 0.929 Test acc: 0.889\n",
      "Iteration 990 Train acc: 0.926 Test acc: 0.893\n"
     ]
    }
   ],
   "source": [
    "for i in range(n_iter):\n",
    "    batch_idx = np.random.permutation(n)[:batch_size]\n",
    "    x_batch = x[batch_idx]\n",
    "    y_batch = y[batch_idx]\n",
    "    \n",
    "    ## Compute gradients\n",
    "    # your code here\n",
    "    \n",
    "    ## Update parameters\n",
    "    W1 -= # your code here\n",
    "    b1 -= # your code here\n",
    "    W2 -= # your code here\n",
    "    b2 -= # your code here\n",
    "    \n",
    "    if i % 10 == 0:\n",
    "        train_acc = accuracy(x, y, W1, b1, W2, b2)\n",
    "        test_acc = accuracy(x_test, y_test, W1, b1, W2, b2)\n",
    "        test_list.append(test_acc)\n",
    "        train_list.append(train_acc)\n",
    "        print(f'Iteration {i} Train acc: {train_acc:.3f} Test acc: {test_acc:.3f}')\n"
   ]
  },
  {
   "cell_type": "markdown",
   "metadata": {},
   "source": [
    "We display the learning curves. You can then play with the network and training parameters:\n",
    "what happens when you change the learning rate, the number of hidden sizes, etc?"
   ]
  },
  {
   "cell_type": "code",
   "execution_count": 25,
   "metadata": {},
   "outputs": [
    {
     "data": {
      "text/plain": [
       "<matplotlib.legend.Legend at 0x147bee490>"
      ]
     },
     "execution_count": 25,
     "metadata": {},
     "output_type": "execute_result"
    },
    {
     "data": {
      "image/png": "[encoded data removed]",
      "text/plain": [
       "<Figure size 640x480 with 1 Axes>"
      ]
     },
     "metadata": {},
     "output_type": "display_data"
    }
   ],
   "source": [
    "plt.plot(test_list, label='test')\n",
    "plt.plot(train_list, label='train')\n",
    "\n",
    "plt.ylabel('Accuracy')\n",
    "plt.xlabel('Iterations')\n",
    "plt.legend()\n",
    "plt.show()"
   ]
  }
 ],
 "metadata": {
  "kernelspec": {
   "display_name": "test",
   "language": "python",
   "name": "python3"
  },
  "language_info": {
   "codemirror_mode": {
    "name": "ipython",
    "version": 3
   },
   "file_extension": ".py",
   "mimetype": "text/x-python",
   "name": "python",
   "nbconvert_exporter": "python",
   "pygments_lexer": "ipython3",
   "version": "3.11.7"
  }
 },
 "nbformat": 4,
 "nbformat_minor": 4
}
